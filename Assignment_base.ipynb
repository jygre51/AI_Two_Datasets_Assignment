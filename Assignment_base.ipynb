{
  "nbformat": 4,
  "nbformat_minor": 0,
  "metadata": {
    "colab": {
      "provenance": [],
      "authorship_tag": "ABX9TyON+WQYGWXdZV7EqHM1jPVx",
      "include_colab_link": true
    },
    "kernelspec": {
      "name": "python3",
      "display_name": "Python 3"
    },
    "language_info": {
      "name": "python"
    }
  },
  "cells": [
    {
      "cell_type": "markdown",
      "metadata": {
        "id": "view-in-github",
        "colab_type": "text"
      },
      "source": [
        "<a href=\"https://colab.research.google.com/github/jygre51/AI_Two_Datasets_Assignment/blob/main/Assignment_base.ipynb\" target=\"_parent\"><img src=\"https://colab.research.google.com/assets/colab-badge.svg\" alt=\"Open In Colab\"/></a>"
      ]
    },
    {
      "cell_type": "markdown",
      "source": [
        "measures of economic freedom source: https://www.heritage.org/index/explore\n",
        "\n",
        "crime data: https://dataunodc.un.org/\n",
        "\n",
        "use datasets from documents/university/year_3/mike/assignment_datasets"
      ],
      "metadata": {
        "id": "5jIb-TRjqL1Y"
      }
    },
    {
      "cell_type": "code",
      "source": [
        "import pandas as pd\n",
        "from sklearn.impute import SimpleImputer\n",
        "\n",
        "crime_and_freedom_df = pd.read_csv('merged_data.csv')\n",
        "\n",
        "\n",
        "imputer = SimpleImputer(strategy=\"median\")\n",
        "crime_and_freedom_nums = crime_and_freedom_df.drop(\"Country\", axis=1).replace(0)\n",
        "imputer.fit(crime_and_freedom_nums)\n",
        "X = imputer.transform(crime_and_freedom_nums)\n",
        "clean_data = pd.DataFrame(X, columns=crime_and_freedom_nums.columns)\n",
        "clean_data.to_csv('clean_data.csv')\n",
        "\n",
        "corr_matrix = crime_and_freedom_df.corr()\n",
        "# print(corr_matrix[\"Overall Score\"].sort_values(ascending=False))"
      ],
      "metadata": {
        "id": "u9ZlcKpQp9Pp",
        "outputId": "811d3d61-d7b8-48e5-8e07-6ece7165f50f",
        "colab": {
          "base_uri": "https://localhost:8080/"
        }
      },
      "execution_count": 26,
      "outputs": [
        {
          "output_type": "stream",
          "name": "stderr",
          "text": [
            "<ipython-input-26-5710e4454bad>:14: FutureWarning: The default value of numeric_only in DataFrame.corr is deprecated. In a future version, it will default to False. Select only valid columns or specify the value of numeric_only to silence this warning.\n",
            "  corr_matrix = crime_and_freedom_df.corr()\n"
          ]
        }
      ]
    },
    {
      "cell_type": "code",
      "execution_count": null,
      "metadata": {
        "id": "2lRE9EKFqJoC"
      },
      "outputs": [],
      "source": []
    }
  ]
}