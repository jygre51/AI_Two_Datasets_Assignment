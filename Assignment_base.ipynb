{
  "nbformat": 4,
  "nbformat_minor": 0,
  "metadata": {
    "colab": {
      "provenance": [],
      "authorship_tag": "ABX9TyNnjmaib5WWDKppyCY+b3MK",
      "include_colab_link": true
    },
    "kernelspec": {
      "name": "python3",
      "display_name": "Python 3"
    },
    "language_info": {
      "name": "python"
    }
  },
  "cells": [
    {
      "cell_type": "markdown",
      "metadata": {
        "id": "view-in-github",
        "colab_type": "text"
      },
      "source": [
        "<a href=\"https://colab.research.google.com/github/jygre51/AI_Two_Datasets_Assignment/blob/main/Assignment_base.ipynb\" target=\"_parent\"><img src=\"https://colab.research.google.com/assets/colab-badge.svg\" alt=\"Open In Colab\"/></a>"
      ]
    },
    {
      "cell_type": "markdown",
      "source": [
        "Neural net using measures of economic freedom as a predictor for financially motivated crimes.\n",
        "\n",
        "measures of economic freedom source: https://www.heritage.org/index/explore\n",
        "\n",
        "crime data: https://dataunodc.un.org/\n",
        "\n",
        "use datasets from documents/university/year_3/mike/assignment_datasets"
      ],
      "metadata": {
        "id": "5jIb-TRjqL1Y"
      }
    },
    {
      "cell_type": "code",
      "source": [
        "import pandas as pd\n",
        "import numpy as np\n",
        "from sklearn.impute import SimpleImputer\n",
        "from sklearn.preprocessing import StandardScaler\n",
        "from sklearn.model_selection import train_test_split\n",
        "from keras.models import Sequential\n",
        "from keras.layers import Dense\n",
        "\n",
        "# Import separate data files\n",
        "freedom_data = pd.read_csv('freedom_scores_2019.csv')\n",
        "crime_data = pd.read_csv('UN_ODC_Crime_Data.csv')\n",
        "\n",
        "# Merge by country and clean data (replace null values with median for feature)\n",
        "merged_data = pd.merge(freedom_data, crime_data, on='Country', how='inner')\n",
        "crime_and_freedom_nums = merged_data.drop(\"Country\", axis=1).replace(0)\n",
        "\n",
        "imputer = SimpleImputer(strategy=\"median\")\n",
        "imputer.fit(crime_and_freedom_nums)\n",
        "X = imputer.transform(crime_and_freedom_nums)\n",
        "clean_data = pd.DataFrame(X, columns=crime_and_freedom_nums.columns)\n",
        "\n",
        "# Separate indicator data and target data\n",
        "freedom_measures = ['Overall Score', 'Property Rights', 'Judicial Effectiveness', 'Government Integrity', 'Tax Burden', 'Government Spending', 'Fiscal Health', 'Business Freedom', 'Labor Freedom', 'Monetary Freedom', 'Trade Freedom', 'Investment Freedom', 'Financial Freedom']\n",
        "fmc_measures = ['Burglary', 'Theft', 'Fraud']\n",
        "\n",
        "X = clean_data[freedom_measures].values\n",
        "Y = clean_data[fmc_measures].values\n",
        "\n",
        "# Standardization of data\n",
        "predictor_scaler = StandardScaler()\n",
        "target_var_scaler = StandardScaler()\n",
        "\n",
        "# Storing the fit object for later reference\n",
        "predictor_scaler_fit = predictor_scaler.fit(X)\n",
        "target_var_scaler_fit = target_var_scaler.fit(Y)\n",
        "\n",
        "# Generating the standardized values of X and y\n",
        "predictor_scaler_fit.transform(X)\n",
        "target_var_scaler_fit.transform(Y)\n",
        "\n",
        "# Split the data into training and testing set\n",
        "X_train, X_test, Y_train, Y_test = train_test_split(X, Y, test_size=0.2, random_state=47)\n",
        "\n",
        "# Quick sanity check with the shapes of Training and testing datasets\n",
        "print(X_train.shape)\n",
        "print(Y_train.shape)\n",
        "print(X_test.shape)\n",
        "print(Y_test.shape)\n",
        "\n",
        "# create ANN model\n",
        "model = Sequential()\n",
        "\n",
        "# Defining the Input layer and FIRST hidden layer, both are same!\n",
        "model.add(Dense(units=10, input_dim=13, kernel_initializer='normal', activation='relu'))\n",
        "\n",
        "# Defining the Second layer of the model\n",
        "# after the first layer we don't have to specify input_dim as keras configure it automatically\n",
        "model.add(Dense(units=10, kernel_initializer='normal', activation='tanh'))\n",
        "\n",
        "# Output will be 3 fully connected nodes\n",
        "model.add(Dense(3, kernel_initializer='normal'))\n",
        "\n",
        "# Compiling the model\n",
        "model.compile(loss='mean_squared_error', optimizer='adam')\n",
        "\n",
        "# Fitting the ANN to the Training set (batch size is 3 to adjust for small dataset)\n",
        "model.fit(X_train, Y_train ,batch_size = 3, epochs = 100, verbose=1)\n"
      ],
      "metadata": {
        "id": "u9ZlcKpQp9Pp"
      },
      "execution_count": null,
      "outputs": []
    },
    {
      "cell_type": "markdown",
      "source": [
        "Find best hyperparameters:"
      ],
      "metadata": {
        "id": "zhZy9XEW44kn"
      }
    },
    {
      "cell_type": "code",
      "source": [
        "def find_best_params(X_train, Y_train, X_test, Y_test):\n",
        "\n",
        "    # Defining the list of hyper parameters to try\n",
        "    batch_size_list = [2, 4, 6, 8, 10]\n",
        "    epoch_list = [5, 10, 50, 100]\n",
        "\n",
        "    search_results_data = pd.DataFrame(columns=['trial_number', 'parameters', 'accuracy'])\n",
        "\n",
        "    # initializing the trials\n",
        "    trial_number=0\n",
        "    for batch_size_trial in batch_size_list:\n",
        "        for epochs_trial in epoch_list:\n",
        "            trial_number += 1\n",
        "            # create ANN model\n",
        "            model = Sequential()\n",
        "            # Defining the first layer of the model\n",
        "            model.add(Dense(units=10, input_dim=X_train.shape[1], kernel_initializer='normal', activation='relu'))\n",
        "\n",
        "            # Defining the Second layer of the model\n",
        "            model.add(Dense(units=10, kernel_initializer='normal', activation='relu'))\n",
        "\n",
        "            # Output will be 3 fully connected nodes\n",
        "            model.add(Dense(3, kernel_initializer='normal'))\n",
        "\n",
        "            # Compiling the model\n",
        "            model.compile(loss='mean_squared_error', optimizer='adam')\n",
        "\n",
        "            # Fitting the ANN to the Training set\n",
        "            model.fit(X_train, Y_train ,batch_size = batch_size_trial, epochs = epochs_trial, verbose=0)\n",
        "\n",
        "            MAPE = np.mean(100 * (np.abs(Y_test-model.predict(X_test))/Y_test))\n",
        "\n",
        "            # printing the results of the current iteration\n",
        "            print(trial_number, 'Parameters:','batch_size:', batch_size_trial,'-', 'epochs:',epochs_trial, 'Accuracy:', 100-MAPE)\n",
        "\n",
        "            SearchResultsData=SearchResultsData.append(pd.DataFrame(data=[[trial_number, str(batch_size_trial)+'-'+str(epochs_trial), 100-MAPE]],\n",
        "                                                                    columns=['trial_number', 'parameters', 'accuracy'] ))\n",
        "    return(SearchResultsData)\n",
        "\n",
        "# Calling the function\n",
        "results_data = find_best_params(X_train, Y_train, X_test, Y_test)"
      ],
      "metadata": {
        "id": "K4QMb-bo45RZ"
      },
      "execution_count": null,
      "outputs": []
    }
  ]
}